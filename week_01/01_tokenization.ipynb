{
 "cells": [
  {
   "cell_type": "markdown",
   "id": "a0e91c8b",
   "metadata": {},
   "source": [
    "# Basic Tokenization and some Processing"
   ]
  },
  {
   "cell_type": "code",
   "execution_count": 3,
   "id": "87229b13",
   "metadata": {},
   "outputs": [],
   "source": [
    "import warnings\n",
    "warnings.simplefilter(\"ignore\", UserWarning)\n",
    "\n",
    "# English 經典NLP工具\n",
    "import nltk\n",
    "# nltk.download(\"all\")\n",
    "\n",
    "# Chinese 斷詞工具\n",
    "import jieba\n",
    "\n"
   ]
  },
  {
   "cell_type": "code",
   "execution_count": 4,
   "id": "2b3fd87c",
   "metadata": {},
   "outputs": [],
   "source": [
    "example_en = \"Anthropic is a public benefit corporation dedicated to securing its benefits and mitigating its risks.\"\n",
    "example_ch = \"TAIDE團隊今日釋出模型，已完成基本測試的最新具臺灣文化的大型繁體中文模型。\""
   ]
  },
  {
   "cell_type": "markdown",
   "id": "30d06ddb",
   "metadata": {},
   "source": [
    "## Tokenization"
   ]
  },
  {
   "cell_type": "code",
   "execution_count": 5,
   "id": "13c4c39b",
   "metadata": {},
   "outputs": [
    {
     "name": "stdout",
     "output_type": "stream",
     "text": [
      "Anthropic | is | a | public | benefit | corporation | dedicated | to | securing | its | benefits | and | mitigating | its | risks | .\n"
     ]
    }
   ],
   "source": [
    "from nltk.tokenize import word_tokenize\n",
    "\n",
    "tok_en = word_tokenize(example_en)\n",
    "print(\" | \".join(tok_en))"
   ]
  },
  {
   "cell_type": "code",
   "execution_count": 6,
   "id": "f96b195c",
   "metadata": {},
   "outputs": [
    {
     "name": "stderr",
     "output_type": "stream",
     "text": [
      "Building prefix dict from the default dictionary ...\n",
      "Loading model from cache /var/folders/py/cw4ghzp92ld3ckngb734svy00000gn/T/jieba.cache\n",
      "Loading model cost 0.232 seconds.\n",
      "Prefix dict has been built successfully.\n"
     ]
    },
    {
     "name": "stdout",
     "output_type": "stream",
     "text": [
      "TAIDE | 團 | 隊 | 今日 | 釋 | 出 | 模型 | ， | 已 | 完成 | 基本 | 測 | 試 | 的 | 最新 | 具 | 臺 | 灣 | 文化 | 的 | 大型 | 繁 | 體 | 中文 | 模型 | 。\n"
     ]
    }
   ],
   "source": [
    "sl_list = jieba.cut(example_ch, cut_all=True)\n",
    "print(\" | \".join(sl_list))"
   ]
  },
  {
   "cell_type": "markdown",
   "id": "a5ecb98f",
   "metadata": {},
   "source": [
    "## Stop Word Removal"
   ]
  },
  {
   "cell_type": "code",
   "execution_count": 7,
   "id": "53f2a615",
   "metadata": {},
   "outputs": [],
   "source": [
    "from nltk.corpus import stopwords"
   ]
  },
  {
   "cell_type": "code",
   "execution_count": 8,
   "id": "3aa16241",
   "metadata": {},
   "outputs": [
    {
     "name": "stdout",
     "output_type": "stream",
     "text": [
      "['Anthropic', 'is', 'a', 'public', 'benefit', 'corporation', 'dedicated', 'to', 'securing', 'its', 'benefits', 'and', 'mitigating', 'its', 'risks', '.']\n",
      "['Anthropic', 'public', 'benefit', 'corporation', 'dedicated', 'securing', 'benefits', 'mitigating', 'risks', '.']\n"
     ]
    }
   ],
   "source": [
    "stop_words = set(stopwords.words('english'))\n",
    "swr_tok_en = [w for w in tok_en if w.lower() not in stop_words]\n",
    "\n",
    "\n",
    "print(tok_en)\n",
    "print(swr_tok_en)\n"
   ]
  },
  {
   "cell_type": "markdown",
   "id": "e29b9e4e",
   "metadata": {},
   "source": [
    "## Stemming"
   ]
  },
  {
   "cell_type": "code",
   "execution_count": 9,
   "id": "dc2d4d18",
   "metadata": {},
   "outputs": [],
   "source": [
    "from nltk.stem import PorterStemmer, SnowballStemmer"
   ]
  },
  {
   "cell_type": "code",
   "execution_count": 10,
   "id": "96f7e0b6",
   "metadata": {},
   "outputs": [
    {
     "name": "stdout",
     "output_type": "stream",
     "text": [
      "['Anthropic', 'public', 'benefit', 'corporation', 'dedicated', 'securing', 'benefits', 'mitigating', 'risks', '.']\n",
      "['anthrop', 'public', 'benefit', 'corpor', 'dedic', 'secur', 'benefit', 'mitig', 'risk', '.']\n"
     ]
    }
   ],
   "source": [
    "stem_swr_tok_en = [PorterStemmer().stem(w) for w in swr_tok_en]\n",
    "print(swr_tok_en)\n",
    "print(stem_swr_tok_en)"
   ]
  },
  {
   "cell_type": "code",
   "execution_count": 11,
   "id": "3b9cd234",
   "metadata": {},
   "outputs": [
    {
     "name": "stdout",
     "output_type": "stream",
     "text": [
      "['Anthropic', 'public', 'benefit', 'corporation', 'dedicated', 'securing', 'benefits', 'mitigating', 'risks', '.']\n",
      "['anthrop', 'public', 'benefit', 'corpor', 'dedic', 'secur', 'benefit', 'mitig', 'risk', '.']\n"
     ]
    }
   ],
   "source": [
    "stem_swr_tok_en = [SnowballStemmer(language=\"english\").stem(w.lower()) for w in swr_tok_en]\n",
    "print(swr_tok_en)\n",
    "print(stem_swr_tok_en)"
   ]
  },
  {
   "cell_type": "markdown",
   "id": "b1d9effb",
   "metadata": {},
   "source": [
    "## Lemmatization"
   ]
  },
  {
   "cell_type": "code",
   "execution_count": null,
   "id": "fd4e5e58",
   "metadata": {},
   "outputs": [],
   "source": [
    "from nltk.stem import WordNetLemmatizer"
   ]
  },
  {
   "cell_type": "code",
   "execution_count": 14,
   "id": "21c7343d",
   "metadata": {},
   "outputs": [
    {
     "name": "stdout",
     "output_type": "stream",
     "text": [
      "['Anthropic', 'public', 'benefit', 'corporation', 'dedicated', 'securing', 'benefits', 'mitigating', 'risks', '.']\n",
      "['anthropic', 'public', 'benefit', 'corporation', 'dedicated', 'securing', 'benefit', 'mitigating', 'risk', '.']\n"
     ]
    }
   ],
   "source": [
    "lemm_swr_tok_en = [WordNetLemmatizer().lemmatize(w.lower()) for w in swr_tok_en]\n",
    "print(swr_tok_en)\n",
    "print(lemm_swr_tok_en)"
   ]
  },
  {
   "cell_type": "code",
   "execution_count": null,
   "id": "d95ee06b",
   "metadata": {},
   "outputs": [],
   "source": []
  }
 ],
 "metadata": {
  "kernelspec": {
   "display_name": "gdgnlp2025",
   "language": "python",
   "name": "python3"
  },
  "language_info": {
   "codemirror_mode": {
    "name": "ipython",
    "version": 3
   },
   "file_extension": ".py",
   "mimetype": "text/x-python",
   "name": "python",
   "nbconvert_exporter": "python",
   "pygments_lexer": "ipython3",
   "version": "3.12.12"
  }
 },
 "nbformat": 4,
 "nbformat_minor": 5
}
