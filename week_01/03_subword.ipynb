{
 "cells": [
  {
   "cell_type": "markdown",
   "id": "d9f93638",
   "metadata": {},
   "source": [
    "# Subword"
   ]
  },
  {
   "cell_type": "code",
   "execution_count": 1,
   "id": "40c2f0fd",
   "metadata": {},
   "outputs": [
    {
     "name": "stderr",
     "output_type": "stream",
     "text": [
      "/Users/robinwang/main/GDGinNCKU_NLP_2025/.venv/lib/python3.12/site-packages/tqdm/auto.py:21: TqdmWarning: IProgress not found. Please update jupyter and ipywidgets. See https://ipywidgets.readthedocs.io/en/stable/user_install.html\n",
      "  from .autonotebook import tqdm as notebook_tqdm\n"
     ]
    }
   ],
   "source": [
    "from transformers import AutoTokenizer\n",
    "from collections import defaultdict"
   ]
  },
  {
   "cell_type": "code",
   "execution_count": 2,
   "id": "fc3e2852",
   "metadata": {},
   "outputs": [],
   "source": [
    "example_en = \"Anthropic is a public benefit corporation dedicated to securing its benefits and mitigating its risks.\""
   ]
  },
  {
   "cell_type": "markdown",
   "id": "ec30ae2f",
   "metadata": {},
   "source": [
    "## GPT派系 (BPE)：\n",
    "(1): 利用 `Ġ` 作為分割字的方法，通常代表空格\n",
    "<br>\n",
    "(2): 會盡量行程最完整的單字"
   ]
  },
  {
   "cell_type": "code",
   "execution_count": 3,
   "id": "ad04c9ae",
   "metadata": {},
   "outputs": [],
   "source": [
    "tokenizer = AutoTokenizer.from_pretrained(\"gpt2\")"
   ]
  },
  {
   "cell_type": "code",
   "execution_count": 4,
   "id": "edcb7222",
   "metadata": {},
   "outputs": [
    {
     "name": "stdout",
     "output_type": "stream",
     "text": [
      "defaultdict(<class 'int'>, {'Anthropic': 1, 'Ġis': 1, 'Ġa': 1, 'Ġpublic': 1, 'Ġbenefit': 1, 'Ġcorporation': 1, 'Ġdedicated': 1, 'Ġto': 1, 'Ġsecuring': 1, 'Ġits': 2, 'Ġbenefits': 1, 'Ġand': 1, 'Ġmitigating': 1, 'Ġrisks': 1, '.': 1})\n"
     ]
    }
   ],
   "source": [
    "word_freqs = defaultdict(int)\n",
    "\n",
    "\n",
    "words_with_offsets = tokenizer.backend_tokenizer.pre_tokenizer.pre_tokenize_str(example_en)\n",
    "new_words = [word for word, offset in words_with_offsets]\n",
    "for word in new_words:\n",
    "    word_freqs[word] += 1\n",
    "\n",
    "print(word_freqs)"
   ]
  },
  {
   "cell_type": "markdown",
   "id": "e7a46ec7",
   "metadata": {},
   "source": [
    "## BERT 派系 (WordPiece)：\n",
    "(1): 完整的詞是由 前綴（+後綴）形成的，如果沒有####就代表是詞的開頭\n",
    "<br>\n",
    "(2): 著重於觀察字的拆解"
   ]
  },
  {
   "cell_type": "code",
   "execution_count": 5,
   "id": "de11a63f",
   "metadata": {},
   "outputs": [],
   "source": [
    "tokenizer = AutoTokenizer.from_pretrained(\"bert-base-cased\")"
   ]
  },
  {
   "cell_type": "code",
   "execution_count": 6,
   "id": "525f694d",
   "metadata": {},
   "outputs": [
    {
     "name": "stdout",
     "output_type": "stream",
     "text": [
      "defaultdict(<class 'int'>, {'Anthropic': 1, 'is': 1, 'a': 1, 'public': 1, 'benefit': 1, 'corporation': 1, 'dedicated': 1, 'to': 1, 'securing': 1, 'its': 2, 'benefits': 1, 'and': 1, 'mitigating': 1, 'risks': 1, '.': 1})\n"
     ]
    }
   ],
   "source": [
    "word_freqs = defaultdict(int)\n",
    "\n",
    "words_with_offsets = tokenizer.backend_tokenizer.pre_tokenizer.pre_tokenize_str(example_en)\n",
    "new_words = [word for word, offset in words_with_offsets]\n",
    "for word in new_words:\n",
    "    word_freqs[word] += 1\n",
    "\n",
    "print(word_freqs)"
   ]
  },
  {
   "cell_type": "code",
   "execution_count": null,
   "id": "4752b215",
   "metadata": {},
   "outputs": [],
   "source": []
  }
 ],
 "metadata": {
  "kernelspec": {
   "display_name": "gdgnlp2025",
   "language": "python",
   "name": "python3"
  },
  "language_info": {
   "codemirror_mode": {
    "name": "ipython",
    "version": 3
   },
   "file_extension": ".py",
   "mimetype": "text/x-python",
   "name": "python",
   "nbconvert_exporter": "python",
   "pygments_lexer": "ipython3",
   "version": "3.12.12"
  }
 },
 "nbformat": 4,
 "nbformat_minor": 5
}
